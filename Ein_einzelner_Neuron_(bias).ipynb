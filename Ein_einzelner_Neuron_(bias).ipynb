{
  "nbformat": 4,
  "nbformat_minor": 0,
  "metadata": {
    "colab": {
      "name": "Ein einzelner Neuron (bias)",
      "version": "0.3.2",
      "provenance": [],
      "include_colab_link": true
    },
    "kernelspec": {
      "name": "python3",
      "display_name": "Python 3"
    }
  },
  "cells": [
    {
      "cell_type": "markdown",
      "metadata": {
        "id": "view-in-github",
        "colab_type": "text"
      },
      "source": [
        "<a href=\"https://colab.research.google.com/github/fachanwaelte/cv/blob/master/Ein_einzelner_Neuron_(bias).ipynb\" target=\"_parent\"><img src=\"https://colab.research.google.com/assets/colab-badge.svg\" alt=\"Open In Colab\"/></a>"
      ]
    },
    {
      "cell_type": "code",
      "metadata": {
        "id": "9X0_pSURSz0k",
        "colab_type": "code",
        "colab": {}
      },
      "source": [
        "x = [\n",
        "    [-10],\n",
        "    [0],\n",
        "    [20]\n",
        "]\n",
        "\n",
        "y = [\n",
        "    [14],\n",
        "    [32],\n",
        "    [68]\n",
        "]"
      ],
      "execution_count": 0,
      "outputs": []
    },
    {
      "cell_type": "code",
      "metadata": {
        "id": "CQDXOfTjTSGX",
        "colab_type": "code",
        "colab": {}
      },
      "source": [
        "from sklearn.linear_model import LinearRegression\n",
        "\n",
        "model = LinearRegression(fit_intercept = False)\n",
        "model.fit(x,y)"
      ],
      "execution_count": 0,
      "outputs": []
    }
  ]
}